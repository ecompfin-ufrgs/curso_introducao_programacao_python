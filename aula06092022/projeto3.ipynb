{
 "cells": [
  {
   "cell_type": "markdown",
   "id": "b278cfd2",
   "metadata": {},
   "source": [
    "# Requisitos\n",
    "\n",
    "Escreva um programa em Python que colete dados de notícias políticas na\n",
    "página do G1 e os salve em um arquivo no formato html.\n",
    "\n",
    "Coloque o código e o arquivo html no seu GitHub.\n",
    "Dica: Use o pacote requests.\n"
   ]
  },
  {
   "cell_type": "code",
   "execution_count": 1,
   "id": "bc811948",
   "metadata": {},
   "outputs": [],
   "source": [
    "# Importando o pacote requests\n",
    "\n",
    "import requests"
   ]
  },
  {
   "cell_type": "code",
   "execution_count": 2,
   "id": "1503101b",
   "metadata": {},
   "outputs": [
    {
     "data": {
      "text/plain": [
       "200"
      ]
     },
     "execution_count": 2,
     "metadata": {},
     "output_type": "execute_result"
    }
   ],
   "source": [
    "# Lendo a página de política do G1\n",
    "endereco = \"https://g1.globo.com/politica/\"\n",
    "\n",
    "pagina = requests.get(endereco)\n",
    "pagina.status_code"
   ]
  },
  {
   "cell_type": "code",
   "execution_count": 6,
   "id": "c623bf20",
   "metadata": {},
   "outputs": [
    {
     "data": {
      "text/plain": [
       "200"
      ]
     },
     "execution_count": 6,
     "metadata": {},
     "output_type": "execute_result"
    }
   ],
   "source": [
    "def page_reader(endereco: str) ->  requests.models.Response:\n",
    "    pagina = requests.get(endereco)\n",
    "    return pagina\n",
    "\n",
    "pagina_politica_G1 = page_reader(\"https://g1.globo.com/politica/\")\n",
    "pagina_politica_G1.status_code"
   ]
  },
  {
   "cell_type": "code",
   "execution_count": 3,
   "id": "9d0c8431",
   "metadata": {},
   "outputs": [
    {
     "data": {
      "text/plain": [
       "requests.models.Response"
      ]
     },
     "execution_count": 3,
     "metadata": {},
     "output_type": "execute_result"
    }
   ],
   "source": [
    "type(pagina)"
   ]
  },
  {
   "cell_type": "code",
   "execution_count": 5,
   "id": "cdc7ae11",
   "metadata": {},
   "outputs": [],
   "source": [
    "# Gravando o arquivo com as informações da variável pagina\n",
    "\n",
    "arquivo = open('pagina.html', 'wb')\n",
    "for texto in pagina.iter_content():\n",
    "    arquivo.write(texto)\n",
    "arquivo.close()\n"
   ]
  },
  {
   "cell_type": "code",
   "execution_count": 8,
   "id": "03983456",
   "metadata": {},
   "outputs": [],
   "source": [
    "def grava_pagina_web(resposta: requests.models.Response) -> None:\n",
    "    arquivo = open('politica.html', 'wb')\n",
    "    for texto in pagina.iter_content():\n",
    "        arquivo.write(texto)\n",
    "    arquivo.close()\n",
    "        \n",
    "grava_pagina_web(pagina_politica_G1)"
   ]
  },
  {
   "cell_type": "code",
   "execution_count": null,
   "id": "c4335d52",
   "metadata": {},
   "outputs": [],
   "source": []
  }
 ],
 "metadata": {
  "kernelspec": {
   "display_name": "Python 3 (ipykernel)",
   "language": "python",
   "name": "python3"
  },
  "language_info": {
   "codemirror_mode": {
    "name": "ipython",
    "version": 3
   },
   "file_extension": ".py",
   "mimetype": "text/x-python",
   "name": "python",
   "nbconvert_exporter": "python",
   "pygments_lexer": "ipython3",
   "version": "3.9.7"
  }
 },
 "nbformat": 4,
 "nbformat_minor": 5
}
